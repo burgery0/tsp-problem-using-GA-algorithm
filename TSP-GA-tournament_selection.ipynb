import pandas as pd
import numpy as np
import random,csv
from multiprocessing import Pool

df = pd.read_csv('/content/drive/My Drive/2023_AI_TSP.csv', header=None)
coords_cache = {i: tuple(df.iloc[i]) for i in range(len(df))}
distance_matrix = np.zeros((len(df), len(df)))

# Precompute distances
for i in range(len(df)):
    for j in range(i+1, len(df)):
        dist = np.sqrt((coords_cache[i][0]-coords_cache[j][0])**2 + (coords_cache[i][1]-coords_cache[j][1])**2)
        distance_matrix[i][j] = dist
        distance_matrix[j][i] = dist

start_node = tuple(df.iloc[0].tolist())

def create_population(n):
    population = []
    for i in range(n):
        path = list(range(1, len(df)))
        random.shuffle(path)
        population.append(path)
    return population

def fitness(path):
    dist = distance_matrix[0][path[0]] + distance_matrix[path[-1]][0]
    for i in range(len(path)-1):
        dist += distance_matrix[path[i]][path[i+1]]
    return 1/dist

def tournament_selection(population, n_parents, tournament_size=5):
    parents = []
    for i in range(n_parents):
        tournament = random.sample(population, tournament_size)
        best_individual = max(tournament, key=lambda x: fitness(x))
        parents.append(best_individual)

    return parents

def crossover(parents):
    p1, p2 = parents
    child = [-1]*len(p1)
    start_index = random.randint(0, len(p1)-2)
    end_index = random.randint(start_index+1, len(p1)-1)

    for i in range(start_index, end_index+1):
        child[i] = p1[i]

    remaining_indices = [idx for idx in p2 if idx not in child]

    for i in range(len(child)):
        if child[i] == -1:
            child[i] = remaining_indices[0]
            remaining_indices.pop(0)

    return child

def mutation(path):
    idx1, idx2 = random.sample(range(len(path)), 2)
    path[idx1], path[idx2] = path[idx2], path[idx1]
    return path

def genetic_algorithm(n_generations, population_size, n_parents, mutation_prob):
    population = create_population(population_size)

    for i in range(n_generations):
        parents = tournament_selection(population, n_parents)

        offsprings = []
        for j in range(population_size-n_parents):
            p1, p2 = random.sample(parents, 2)
            child = crossover([p1, p2])
            if random.random() < mutation_prob:
                child = mutation(child)
            offsprings.append(child)

        population = parents + offsprings

    fitness_scores = np.array([fitness(path) for path in population])
    best_path_idx = np.argmax(fitness_scores)
    best_path = population[best_path_idx]
    return [0] + best_path

#csv파일생성
def save_best_path_to_csv(best_path, filename):
    with open(f'{filename}', mode='w', newline='') as file:
        writer = csv.writer(file)
        for node in best_path:
            writer.writerow([node])


best_path = genetic_algorithm(n_generations=100, population_size=250, n_parents=20, mutation_prob=0.2)
print(best_path)


filename = 'result.csv'
save_best_path_to_csv(best_path, filename)


best_path_coords = [coords_cache[node] for node in best_path]
total_distance = 0
for i in range(len(best_path_coords)-1):
    node1 = best_path_coords[i]
    node2 = best_path_coords[i+1]
    dist = np.sqrt((node1[0]-node2[0])**2 + (node1[1]-node2[1])**2)
    total_distance += dist
print(total_distance)


